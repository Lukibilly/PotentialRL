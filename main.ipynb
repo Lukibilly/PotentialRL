{
 "cells": [
  {
   "attachments": {},
   "cell_type": "markdown",
   "metadata": {},
   "source": [
    "# First RL Gym Project"
   ]
  },
  {
   "attachments": {},
   "cell_type": "markdown",
   "metadata": {},
   "source": [
    "## 1. Imports"
   ]
  },
  {
   "cell_type": "code",
   "execution_count": 7,
   "metadata": {},
   "outputs": [],
   "source": [
    "import torch as tr\n",
    "import torch.nn as nn\n",
    "from torch.optim.lr_scheduler import MultiStepLR\n",
    "import matplotlib.pyplot as plt\n",
    "import numpy as np\n",
    "from environments import BoxEnvironment1 as env\n",
    "from environment_utils import Box\n",
    "from agents import SACAgent\n",
    "from agent_utils import update_target_agent, ReplayBuffer\n",
    "from log_utils import RLLogger\n",
    "from plot_utils import RLPlotter, plot_normalized_mexican_hat_potential\n",
    "\n",
    "device = tr.device('cuda' if tr.cuda.is_available() else 'cpu')\n",
    "tr.autograd.set_detect_anomaly(True)\n",
    "tr.set_default_tensor_type(tr.FloatTensor)"
   ]
  },
  {
   "attachments": {},
   "cell_type": "markdown",
   "metadata": {},
   "source": [
    "## 2. Hyperparameters"
   ]
  },
  {
   "cell_type": "code",
   "execution_count": 8,
   "metadata": {},
   "outputs": [],
   "source": [
    "# ---------------- Training -------------------\n",
    "    # Memory\n",
    "memory_size = 3000\n",
    "memory_batch_size = 512\n",
    "    # Duration of training\n",
    "runs = 1\n",
    "n_episodes = 50\n",
    "n_steps = 256\n",
    "    # Training parameters\n",
    "agent_batch_size = 128\n",
    "learning_rate = 0.005\n",
    "learning_rate_decay = 0.8\n",
    "entropy_coef = 0.2\n",
    "    # Bellman equation\n",
    "future_discount = 0.99\n",
    "    # Update Target Model\n",
    "target_model_update = 1\n",
    "    # Loss Function\n",
    "loss_function = nn.MSELoss()\n",
    "\n",
    "# ---------------- Environment  ----------------\n",
    "    # Environment box size\n",
    "env_width = 2\n",
    "env_height = 2\n",
    "space = Box(env_width, env_height)\n",
    "    # Goal box size and center\n",
    "goal_width = 0.3\n",
    "goal_height = 0.3\n",
    "goal_center = np.tile([0.5,0],(agent_batch_size,1))\n",
    "goal = Box(goal_width, goal_height, goal_center)\n",
    "    # Time step size\n",
    "dt = 0.04\n",
    "    # Noise\n",
    "noise_characteristic_length = 10\n",
    "    # Maximum of potential\n",
    "U0 = 0.5\n",
    "\n",
    "# ---------------- Agent ----------------------\n",
    "state_dim = 4\n",
    "hidden_dims = [8,8]\n",
    "act_dim = 1\n",
    "act_positive = True\n",
    "act_scaling = 2*np.pi\n",
    "\n",
    "# ---------------- Other ----------------------\n",
    "plt.rcParams.update({'font.size': 13})\n",
    "plt.rcParams.update({'figure.dpi': 150})\n",
    "total_time = []\n",
    "update_state_time = []"
   ]
  },
  {
   "attachments": {},
   "cell_type": "markdown",
   "metadata": {},
   "source": [
    "## 3. Simulation"
   ]
  },
  {
   "cell_type": "code",
   "execution_count": 9,
   "metadata": {},
   "outputs": [],
   "source": [
    "environment = env(space, goal)\n",
    "memory = ReplayBuffer(state_dim, act_dim, memory_size, agent_batch_size)\n",
    "agent = SACAgent(state_dim, act_dim, hidden_dims, act_scaling, act_positive).float().to(device)\n",
    "target_agent = SACAgent(state_dim, act_dim, hidden_dims, act_scaling, act_positive).float().to(device)\n",
    "logger = RLLogger()\n",
    "plotter = RLPlotter(logger, goal)\n",
    "\n",
    "agent.actor_optimizer = tr.optim.Adam(agent.actor.parameters(), lr=learning_rate)\n",
    "agent.critic1_optimizer = tr.optim.Adam(agent.critic1.parameters(), lr=learning_rate)\n",
    "agent.critic2_optimizer = tr.optim.Adam(agent.critic2.parameters(), lr=learning_rate)\n",
    "\n",
    "for p in target_agent.parameters():\n",
    "    p.requires_grad = False"
   ]
  },
  {
   "cell_type": "code",
   "execution_count": 10,
   "metadata": {},
   "outputs": [],
   "source": [
    "def update(agent, target_agent, memory_batch):\n",
    "    agent.critic1_optimizer.zero_grad()\n",
    "    agent.critic2_optimizer.zero_grad()\n",
    "\n",
    "    state_now = memory_batch['state_now'].reshape(-1, state_dim)\n",
    "    state_next = memory_batch['state_next'].reshape(-1, state_dim)\n",
    "    action_now = memory_batch['action_now'].reshape(-1, act_dim)\n",
    "    reward = memory_batch['reward'].reshape(-1)\n",
    "    done = memory_batch['done'].reshape(-1)\n",
    "    \n",
    "    # Compute Prediction\n",
    "    Q1_now = agent.critic1(state_now, action_now)\n",
    "    Q2_now = agent.critic2(state_now, action_now)\n",
    "\n",
    "    # Compute Target\n",
    "    with tr.no_grad():        \n",
    "        action_next, log_prob_next = agent.actor(state_next)\n",
    "        \n",
    "        Q1_next = target_agent.critic1(state_next, action_next)\n",
    "        Q2_next = target_agent.critic2(state_next, action_next)\n",
    "        Q_next = tr.min(Q1_next, Q2_next)\n",
    "        target = reward + future_discount*(Q_next - entropy_coef*log_prob_next)\n",
    "    # Compute Loss\n",
    "    loss = loss_function(Q1_now, target) + loss_function(Q2_now, target)\n",
    "    \n",
    "    # Update\n",
    "    loss.backward()\n",
    "    agent.critic1_optimizer.step()\n",
    "    agent.critic2_optimizer.step()\n",
    "    \n",
    "    agent.actor_optimizer.zero_grad()\n",
    "    for p in agent.critic1.parameters():\n",
    "        p.requires_grad = False\n",
    "    for p in agent.critic2.parameters():\n",
    "        p.requires_grad = False\n",
    "    \n",
    "    action_now_new, log_prob_now_new = agent.actor(state_now)\n",
    "    Q1_now_new = agent.critic1(state_now, action_now_new)\n",
    "    Q2_now_new = agent.critic2(state_now, action_now_new)\n",
    "    Q_now_new = tr.min(Q1_now_new, Q2_now_new)\n",
    "    loss_actor = (entropy_coef*log_prob_now_new - Q_now_new).mean()\n",
    "    loss_actor.backward()\n",
    "    agent.actor_optimizer.step()\n",
    "\n",
    "    for p in agent.critic1.parameters():\n",
    "        p.requires_grad = True\n",
    "    for p in agent.critic2.parameters():\n",
    "        p.requires_grad = True\n",
    "\n",
    "    return loss, loss_actor"
   ]
  },
  {
   "cell_type": "code",
   "execution_count": 11,
   "metadata": {},
   "outputs": [],
   "source": [
    "def episode():    \n",
    "    environment.init_state(agent_batch_size, state_dim)\n",
    "    for current_step in range(n_steps):\n",
    "        # Log state\n",
    "        logger.save_state(environment.state)\n",
    "        if current_step%target_model_update == 0 and current_step > memory_size:\n",
    "            update_target_agent(agent, target_agent)\n",
    "        # Beginning state\n",
    "        state_now = environment.state\n",
    "        # Action\n",
    "        action_now, _ = agent.actor(tr.as_tensor(environment.state, device=device, dtype=tr.float))\n",
    "        # Next state\n",
    "        reward = environment.step(action_now.detach().cpu().numpy(), U0, dt, noise_characteristic_length)\n",
    "        state_next = environment.state\n",
    "        # Done\n",
    "        done = environment.goal_check()\n",
    "        # Log action\n",
    "        logger.save_action(action_now.detach().cpu().numpy())\n",
    "\n",
    "        loss = 0\n",
    "        # Sample from memory\n",
    "        if memory.size >= memory_batch_size:\n",
    "            memory_batch = memory.sample_batch(memory_batch_size)\n",
    "            # Update Agent\n",
    "            loss_critic, loss_actor = update(agent, target_agent, memory_batch)\n",
    "            loss_critic, loss_actor = loss_critic.item(), loss_actor.item()\n",
    "            logger.save_loss_critic(loss_critic)\n",
    "            logger.save_loss_actor(loss_actor)\n",
    "        \n",
    "        # Store in memory\n",
    "        memory.store(state_now, action_now, reward, state_next, loss, done)\n",
    "\n",
    "        if max(environment.goal_check()): \n",
    "            print('Goal reached')\n",
    "            logger.save_state(environment.state)\n",
    "            break\n",
    "        \n",
    "    return current_step"
   ]
  },
  {
   "cell_type": "code",
   "execution_count": 12,
   "metadata": {},
   "outputs": [
    {
     "name": "stdout",
     "output_type": "stream",
     "text": [
      "Episode 0  finished!\n",
      "Episode 1  finished!\n",
      "Episode 2  finished!\n",
      "Episode 3  finished!\n",
      "Episode 4  finished!\n"
     ]
    },
    {
     "ename": "KeyboardInterrupt",
     "evalue": "",
     "output_type": "error",
     "traceback": [
      "\u001b[1;31m---------------------------------------------------------------------------\u001b[0m",
      "\u001b[1;31mKeyboardInterrupt\u001b[0m                         Traceback (most recent call last)",
      "Cell \u001b[1;32mIn[12], line 10\u001b[0m\n\u001b[0;32m      7\u001b[0m         \u001b[39mprint\u001b[39m(\u001b[39m'\u001b[39m\u001b[39mEpisode\u001b[39m\u001b[39m'\u001b[39m, ep,\u001b[39m'\u001b[39m\u001b[39m finished!\u001b[39m\u001b[39m'\u001b[39m)\n\u001b[0;32m      9\u001b[0m plotter\u001b[39m.\u001b[39mclear_plots()\n\u001b[1;32m---> 10\u001b[0m simulation()\n",
      "Cell \u001b[1;32mIn[12], line 4\u001b[0m, in \u001b[0;36msimulation\u001b[1;34m()\u001b[0m\n\u001b[0;32m      2\u001b[0m update_target_agent(agent, target_agent)\n\u001b[0;32m      3\u001b[0m \u001b[39mfor\u001b[39;00m ep \u001b[39min\u001b[39;00m \u001b[39mrange\u001b[39m(n_episodes):\n\u001b[1;32m----> 4\u001b[0m     episode_steps \u001b[39m=\u001b[39m episode()\n\u001b[0;32m      5\u001b[0m     logger\u001b[39m.\u001b[39msave_episode(episode_steps)\n\u001b[0;32m      6\u001b[0m     plotter\u001b[39m.\u001b[39mplot_last_episode()\n",
      "Cell \u001b[1;32mIn[11], line 25\u001b[0m, in \u001b[0;36mepisode\u001b[1;34m()\u001b[0m\n\u001b[0;32m     23\u001b[0m memory_batch \u001b[39m=\u001b[39m memory\u001b[39m.\u001b[39msample_batch(memory_batch_size)\n\u001b[0;32m     24\u001b[0m \u001b[39m# Update Agent\u001b[39;00m\n\u001b[1;32m---> 25\u001b[0m loss_critic, loss_actor \u001b[39m=\u001b[39m update(agent, target_agent, memory_batch)\n\u001b[0;32m     26\u001b[0m loss_critic, loss_actor \u001b[39m=\u001b[39m loss_critic\u001b[39m.\u001b[39mitem(), loss_actor\u001b[39m.\u001b[39mitem()\n\u001b[0;32m     27\u001b[0m logger\u001b[39m.\u001b[39msave_loss_critic(loss_critic)\n",
      "Cell \u001b[1;32mIn[10], line 37\u001b[0m, in \u001b[0;36mupdate\u001b[1;34m(agent, target_agent, memory_batch)\u001b[0m\n\u001b[0;32m     34\u001b[0m \u001b[39mfor\u001b[39;00m p \u001b[39min\u001b[39;00m agent\u001b[39m.\u001b[39mcritic2\u001b[39m.\u001b[39mparameters():\n\u001b[0;32m     35\u001b[0m     p\u001b[39m.\u001b[39mrequires_grad \u001b[39m=\u001b[39m \u001b[39mFalse\u001b[39;00m\n\u001b[1;32m---> 37\u001b[0m action_now_new, log_prob_now_new \u001b[39m=\u001b[39m agent\u001b[39m.\u001b[39;49mactor(state_now)\n\u001b[0;32m     38\u001b[0m Q1_now_new \u001b[39m=\u001b[39m agent\u001b[39m.\u001b[39mcritic1(state_now, action_now_new)\n\u001b[0;32m     39\u001b[0m Q2_now_new \u001b[39m=\u001b[39m agent\u001b[39m.\u001b[39mcritic2(state_now, action_now_new)\n",
      "File \u001b[1;32mc:\\Users\\631lh\\anaconda3\\envs\\RL\\Lib\\site-packages\\torch\\nn\\modules\\module.py:1501\u001b[0m, in \u001b[0;36mModule._call_impl\u001b[1;34m(self, *args, **kwargs)\u001b[0m\n\u001b[0;32m   1496\u001b[0m \u001b[39m# If we don't have any hooks, we want to skip the rest of the logic in\u001b[39;00m\n\u001b[0;32m   1497\u001b[0m \u001b[39m# this function, and just call forward.\u001b[39;00m\n\u001b[0;32m   1498\u001b[0m \u001b[39mif\u001b[39;00m \u001b[39mnot\u001b[39;00m (\u001b[39mself\u001b[39m\u001b[39m.\u001b[39m_backward_hooks \u001b[39mor\u001b[39;00m \u001b[39mself\u001b[39m\u001b[39m.\u001b[39m_backward_pre_hooks \u001b[39mor\u001b[39;00m \u001b[39mself\u001b[39m\u001b[39m.\u001b[39m_forward_hooks \u001b[39mor\u001b[39;00m \u001b[39mself\u001b[39m\u001b[39m.\u001b[39m_forward_pre_hooks\n\u001b[0;32m   1499\u001b[0m         \u001b[39mor\u001b[39;00m _global_backward_pre_hooks \u001b[39mor\u001b[39;00m _global_backward_hooks\n\u001b[0;32m   1500\u001b[0m         \u001b[39mor\u001b[39;00m _global_forward_hooks \u001b[39mor\u001b[39;00m _global_forward_pre_hooks):\n\u001b[1;32m-> 1501\u001b[0m     \u001b[39mreturn\u001b[39;00m forward_call(\u001b[39m*\u001b[39;49margs, \u001b[39m*\u001b[39;49m\u001b[39m*\u001b[39;49mkwargs)\n\u001b[0;32m   1502\u001b[0m \u001b[39m# Do not call functions when jit is used\u001b[39;00m\n\u001b[0;32m   1503\u001b[0m full_backward_hooks, non_full_backward_hooks \u001b[39m=\u001b[39m [], []\n",
      "File \u001b[1;32mf:\\Projects\\RL\\PotentialRL\\agents.py:41\u001b[0m, in \u001b[0;36mSquashedGaussianActor.forward\u001b[1;34m(self, state, deterministic, with_logprob)\u001b[0m\n\u001b[0;32m     38\u001b[0m     logp_pi \u001b[39m=\u001b[39m \u001b[39mNone\u001b[39;00m\n\u001b[0;32m     40\u001b[0m \u001b[39m# Squash distribution\u001b[39;00m\n\u001b[1;32m---> 41\u001b[0m pi_action \u001b[39m=\u001b[39m tr\u001b[39m.\u001b[39;49mtanh(pi_action)\n\u001b[0;32m     42\u001b[0m \u001b[39mif\u001b[39;00m \u001b[39mself\u001b[39m\u001b[39m.\u001b[39mact_positive:\n\u001b[0;32m     43\u001b[0m     pi_action \u001b[39m=\u001b[39m (pi_action \u001b[39m+\u001b[39m \u001b[39m1\u001b[39m) \u001b[39m/\u001b[39m \u001b[39m2\u001b[39m\n",
      "File \u001b[1;32mc:\\Users\\631lh\\anaconda3\\envs\\RL\\Lib\\site-packages\\torch\\fx\\traceback.py:35\u001b[0m, in \u001b[0;36mformat_stack\u001b[1;34m()\u001b[0m\n\u001b[0;32m     31\u001b[0m     \u001b[39mif\u001b[39;00m should_preserve_node_meta \u001b[39mand\u001b[39;00m stack:\n\u001b[0;32m     32\u001b[0m         current_meta[\u001b[39m\"\u001b[39m\u001b[39mstack_trace\u001b[39m\u001b[39m\"\u001b[39m] \u001b[39m=\u001b[39m \u001b[39m\"\u001b[39m\u001b[39m\"\u001b[39m\u001b[39m.\u001b[39mjoin(stack)\n\u001b[1;32m---> 35\u001b[0m \u001b[39m@compatibility\u001b[39m(is_backward_compatible\u001b[39m=\u001b[39m\u001b[39mFalse\u001b[39;00m)\n\u001b[0;32m     36\u001b[0m \u001b[39mdef\u001b[39;00m \u001b[39mformat_stack\u001b[39m() \u001b[39m-\u001b[39m\u001b[39m>\u001b[39m List[\u001b[39mstr\u001b[39m]:\n\u001b[0;32m     37\u001b[0m     \u001b[39mif\u001b[39;00m should_preserve_node_meta:\n\u001b[0;32m     38\u001b[0m         \u001b[39mreturn\u001b[39;00m [current_meta\u001b[39m.\u001b[39mget(\u001b[39m\"\u001b[39m\u001b[39mstack_trace\u001b[39m\u001b[39m\"\u001b[39m, \u001b[39m\"\u001b[39m\u001b[39m\"\u001b[39m)]\n",
      "\u001b[1;31mKeyboardInterrupt\u001b[0m: "
     ]
    }
   ],
   "source": [
    "def simulation():\n",
    "    update_target_agent(agent, target_agent)\n",
    "    for ep in range(n_episodes):\n",
    "        episode_steps = episode()\n",
    "        logger.save_episode(episode_steps)\n",
    "        plotter.plot_last_episode()\n",
    "        print('Episode', ep,' finished!')\n",
    "\n",
    "plotter.clear_plots()\n",
    "simulation()"
   ]
  }
 ],
 "metadata": {
  "kernelspec": {
   "display_name": "RL",
   "language": "python",
   "name": "python3"
  },
  "language_info": {
   "codemirror_mode": {
    "name": "ipython",
    "version": 3
   },
   "file_extension": ".py",
   "mimetype": "text/x-python",
   "name": "python",
   "nbconvert_exporter": "python",
   "pygments_lexer": "ipython3",
   "version": "3.11.3"
  },
  "orig_nbformat": 4
 },
 "nbformat": 4,
 "nbformat_minor": 2
}
