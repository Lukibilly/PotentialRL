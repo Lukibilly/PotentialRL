{
 "cells": [
  {
   "attachments": {},
   "cell_type": "markdown",
   "metadata": {},
   "source": [
    "# First RL Gym Project"
   ]
  },
  {
   "attachments": {},
   "cell_type": "markdown",
   "metadata": {},
   "source": [
    "## 1. Imports"
   ]
  },
  {
   "cell_type": "code",
   "execution_count": 5,
   "metadata": {},
   "outputs": [],
   "source": [
    "import torch as tr\n",
    "import torch.nn as nn\n",
    "from torch.optim.lr_scheduler import MultiStepLR\n",
    "import matplotlib.pyplot as plt\n",
    "import numpy as np\n",
    "from environments import BoxEnvironment1 as env\n",
    "from environment_utils import Box\n",
    "from agents import SACAgent\n",
    "from agent_utils import update_target_agent, ReplayBuffer\n",
    "\n",
    "\n",
    "device = tr.device('cuda' if tr.cuda.is_available() else 'cpu')\n",
    "tr.autograd.set_detect_anomaly(True)\n",
    "tr.set_default_tensor_type(tr.FloatTensor)"
   ]
  },
  {
   "attachments": {},
   "cell_type": "markdown",
   "metadata": {},
   "source": [
    "## 2. Hyperparameters"
   ]
  },
  {
   "cell_type": "code",
   "execution_count": 6,
   "metadata": {},
   "outputs": [],
   "source": [
    "# ---------------- Training -------------------\n",
    "    # Duration of training\n",
    "runs = 1\n",
    "n_episodes = 20\n",
    "n_steps = 200\n",
    "    # Training parameters\n",
    "agent_batch_size = 1\n",
    "learning_rate = 0.001\n",
    "learning_rate_decay = 0.8\n",
    "kl_beta = 0.001\n",
    "    # Bellman equation\n",
    "future_discount = 0.8\n",
    "    # Update Target Model\n",
    "target_model_update = n_episodes//10\n",
    "\n",
    "# ---------------- Environment  ----------------\n",
    "    # Environment box size\n",
    "env_width = 2\n",
    "env_height = 2\n",
    "space = Box(env_width, env_height)\n",
    "    # Goal box size and center\n",
    "goal_width = 0.2\n",
    "goal_height = 0.2\n",
    "goal_center = np.tile([0.5,0],(agent_batch_size,1))\n",
    "goal = Box(goal_width, goal_height, goal_center)\n",
    "    # Time step size\n",
    "dt = 0.0375\n",
    "    # Noise\n",
    "noise_characteristic_length = 1\n",
    "    # Maximum of potential\n",
    "U0 = 0.4\n",
    "\n",
    "# ---------------- Agent ----------------------\n",
    "state_dim = 5\n",
    "hidden_dims = [16,16]\n",
    "act_dim = 1\n",
    "act_positive = True\n",
    "act_scaling = 2*np.pi\n",
    "memory_size = 64\n",
    "memory_batch_size = 8 \n",
    "\n",
    "# ---------------- Other ----------------------\n",
    "plt.rcParams.update({'font.size': 13})\n",
    "plt.rcParams.update({'figure.dpi': 150})\n",
    "total_time = []\n",
    "update_state_time = []"
   ]
  },
  {
   "attachments": {},
   "cell_type": "markdown",
   "metadata": {},
   "source": [
    "### 3. Simulation"
   ]
  },
  {
   "cell_type": "code",
   "execution_count": 7,
   "metadata": {},
   "outputs": [],
   "source": [
    "def episode(environment, agent, target_agent, memory):    \n",
    "    environment.init_state(agent_batch_size)\n",
    "    for current_step in range(n_steps):\n",
    "        # Beginning state\n",
    "        state_now = environment.state\n",
    "        # Action\n",
    "        action_now, _ = agent.actor(tr.as_tensor(environment.state, device=device, dtype=tr.float))\n",
    "        # Q value now\n",
    "        critic1_now = agent.critic1(tr.as_tensor(environment.state, device=device, dtype=tr.float), action_now)\n",
    "        critic2_now = agent.critic2(tr.as_tensor(environment.state, device=device, dtype=tr.float), action_now)\n",
    "        critic_now = tr.min(critic1_now, critic2_now)\n",
    "        # Next state\n",
    "        environment.step(action_now.detach().cpu().numpy(), U0, dt)\n",
    "        state_next = environment.state\n",
    "        # Reward\n",
    "        reward = environment.reward()\n",
    "        # Done\n",
    "        done = environment.goal_check()\n",
    "        # Store in memory\n",
    "        memory.store(state_now, action_now, reward, state_next, done)\n",
    "        # Sample from memory\n",
    "        memory_batch = memory.sample_batch(memory_batch_size)\n",
    "        raise Exception(memory_batch['observation'].shape)\n",
    "        memory_state = memory_batch['observation']\n",
    "\n",
    "        # Update agent\n",
    "\n",
    "\n",
    "        if max(environment.goal_check()): \n",
    "            print('Goal reached')\n",
    "            break\n"
   ]
  },
  {
   "cell_type": "code",
   "execution_count": 8,
   "metadata": {},
   "outputs": [
    {
     "ename": "Exception",
     "evalue": "torch.Size([8, 1, 5])",
     "output_type": "error",
     "traceback": [
      "\u001b[1;31m---------------------------------------------------------------------------\u001b[0m",
      "\u001b[1;31mException\u001b[0m                                 Traceback (most recent call last)",
      "Cell \u001b[1;32mIn[8], line 11\u001b[0m\n\u001b[0;32m      8\u001b[0m         episode(environment, agent, target_agent, memory)\n\u001b[0;32m      9\u001b[0m         \u001b[39mprint\u001b[39m(\u001b[39m'\u001b[39m\u001b[39mEpisode\u001b[39m\u001b[39m'\u001b[39m,ep,\u001b[39m'\u001b[39m\u001b[39m finished!\u001b[39m\u001b[39m'\u001b[39m)\n\u001b[1;32m---> 11\u001b[0m simulation()\n",
      "Cell \u001b[1;32mIn[8], line 8\u001b[0m, in \u001b[0;36msimulation\u001b[1;34m()\u001b[0m\n\u001b[0;32m      6\u001b[0m update_target_agent(agent, target_agent)\n\u001b[0;32m      7\u001b[0m \u001b[39mfor\u001b[39;00m ep \u001b[39min\u001b[39;00m \u001b[39mrange\u001b[39m(n_episodes):\n\u001b[1;32m----> 8\u001b[0m     episode(environment, agent, target_agent, memory)\n\u001b[0;32m      9\u001b[0m     \u001b[39mprint\u001b[39m(\u001b[39m'\u001b[39m\u001b[39mEpisode\u001b[39m\u001b[39m'\u001b[39m,ep,\u001b[39m'\u001b[39m\u001b[39m finished!\u001b[39m\u001b[39m'\u001b[39m)\n",
      "Cell \u001b[1;32mIn[7], line 23\u001b[0m, in \u001b[0;36mepisode\u001b[1;34m(environment, agent, target_agent, memory)\u001b[0m\n\u001b[0;32m     21\u001b[0m \u001b[39m# Sample from memory\u001b[39;00m\n\u001b[0;32m     22\u001b[0m memory_batch \u001b[39m=\u001b[39m memory\u001b[39m.\u001b[39msample_batch(memory_batch_size)\n\u001b[1;32m---> 23\u001b[0m \u001b[39mraise\u001b[39;00m \u001b[39mException\u001b[39;00m(memory_batch[\u001b[39m'\u001b[39m\u001b[39mobservation\u001b[39m\u001b[39m'\u001b[39m]\u001b[39m.\u001b[39mshape)\n\u001b[0;32m     24\u001b[0m memory_state \u001b[39m=\u001b[39m memory_batch[\u001b[39m'\u001b[39m\u001b[39mobservation\u001b[39m\u001b[39m'\u001b[39m]\n\u001b[0;32m     26\u001b[0m \u001b[39m# Update agent\u001b[39;00m\n",
      "\u001b[1;31mException\u001b[0m: torch.Size([8, 1, 5])"
     ]
    }
   ],
   "source": [
    "def simulation():\n",
    "    environment = env(space, goal)\n",
    "    memory = ReplayBuffer(state_dim, act_dim, memory_size, agent_batch_size)\n",
    "    agent = SACAgent(state_dim, act_dim, hidden_dims, act_scaling, act_positive).float().to(device)\n",
    "    target_agent = SACAgent(state_dim, act_dim, hidden_dims, act_scaling, act_positive).float().to(device)\n",
    "    update_target_agent(agent, target_agent)\n",
    "    for ep in range(n_episodes):\n",
    "        episode(environment, agent, target_agent, memory)\n",
    "        print('Episode',ep,' finished!')\n",
    "\n",
    "simulation()"
   ]
  }
 ],
 "metadata": {
  "kernelspec": {
   "display_name": "RL",
   "language": "python",
   "name": "python3"
  },
  "language_info": {
   "codemirror_mode": {
    "name": "ipython",
    "version": 3
   },
   "file_extension": ".py",
   "mimetype": "text/x-python",
   "name": "python",
   "nbconvert_exporter": "python",
   "pygments_lexer": "ipython3",
   "version": "3.11.3"
  },
  "orig_nbformat": 4
 },
 "nbformat": 4,
 "nbformat_minor": 2
}
